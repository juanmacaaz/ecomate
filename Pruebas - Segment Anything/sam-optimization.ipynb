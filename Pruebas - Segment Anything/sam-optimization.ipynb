{
 "cells": [
  {
   "cell_type": "code",
   "execution_count": 1,
   "metadata": {},
   "outputs": [],
   "source": [
    "import os\n",
    "import cv2\n",
    "import numpy as np\n",
    "\n",
    "import matplotlib.pyplot as plt\n",
    "from segment_anything import sam_model_registry, SamPredictor\n",
    "from scipy.optimize import minimize\n",
    "\n",
    "from keras.applications.mobilenet_v2 import MobileNetV2"
   ]
  },
  {
   "cell_type": "code",
   "execution_count": 2,
   "metadata": {},
   "outputs": [],
   "source": [
    "sam = sam_model_registry[\"vit_b\"](checkpoint=\"sam_vit_b_01ec64.pth\")\n",
    "sam.to(device=\"cuda\")\n",
    "\n",
    "predictor = SamPredictor(sam)"
   ]
  },
  {
   "cell_type": "code",
   "execution_count": 4,
   "metadata": {},
   "outputs": [
    {
     "name": "stdout",
     "output_type": "stream",
     "text": [
      "Found 48636 images belonging to 10 classes.\n",
      "Found 4700 images belonging to 10 classes.\n"
     ]
    }
   ],
   "source": [
    "import tensorflow as tf\n",
    "from keras.preprocessing.image import ImageDataGenerator\n",
    "\n",
    "# Creación de los generadores de imágenes, haz data augmentation en el conjunto de entrenamiento un 20% de las imágenes (albumentations)\n",
    "\n",
    "MAIN_PATH = 'Final_dataset_small'\n",
    "\n",
    "train_datagen = ImageDataGenerator(\n",
    "    rescale=1./255,\n",
    "    #preprocessing_function=transform\n",
    ")\n",
    "\n",
    "train_generator = train_datagen.flow_from_directory(\n",
    "    os.path.join(MAIN_PATH, 'Train'),\n",
    "    target_size=(224, 224),\n",
    "    batch_size=32,\n",
    "    class_mode='categorical',\n",
    "    shuffle=True\n",
    ")\n",
    "\n",
    "val_datagen = ImageDataGenerator(rescale=1./255)\n",
    "\n",
    "val_generator = val_datagen.flow_from_directory(\n",
    "    os.path.join(MAIN_PATH, 'Validation'),\n",
    "    target_size=(224, 224),\n",
    "    batch_size=32,\n",
    "    class_mode='categorical',\n",
    "    shuffle=False\n",
    ")"
   ]
  },
  {
   "cell_type": "code",
   "execution_count": 3,
   "metadata": {},
   "outputs": [],
   "source": [
    "from keras.layers import Dense, Flatten, Dropout, BatchNormalization, Activation, Input, Layer\n",
    "\n",
    "class MyCustomLayer(Layer):\n",
    "    def __init__(self, points):\n",
    "        super(MyCustomLayer, self).__init__()\n",
    "        self.points = points\n",
    "\n",
    "    def build(self, input_shape):\n",
    "        self.kernel = self.add_weight(\n",
    "            shape=(input_shape[-1], self.units),\n",
    "            initializer=\"random_normal\",\n",
    "            trainable=True,\n",
    "        )\n",
    "\n",
    "    def call(self, inputs):\n",
    "        return tf.matmul(inputs, self.kernel)\n",
    "\n",
    "\n",
    "# Create movile net model\n",
    "cnn_sam = MobileNetV2(weights='imagenet', include_top=False, input_shape=(224, 224, 3))\n",
    "cnn_prd = MobileNetV2(weights='imagenet', include_top=False, input_shape=(224, 224, 3))\n",
    "\n",
    "# Create a model with two inputs (Funcional API)\n",
    "input_img1 = Input(shape=(224, 224, 3))\n",
    "\n",
    "cnn_sam = cnn_sam(input_img1)\n",
    "mlp_sam = Flatten()(cnn_sam)\n",
    "mlp_sam = Dense(512, activation='relu')(mlp_sam)\n",
    "mlp_sam = Dropout(0.5)(mlp_sam)\n",
    "mlp_sam = Dense(256, activation='relu')(mlp_sam)\n",
    "points = Dense(4, activation='relu')(mlp_sam)\n",
    "\n",
    "input_img2 = Input(shape=(224, 224, 3))\n",
    "\n",
    "cnn_prd = cnn_prd(input_img2)\n",
    "mlp_prd = Flatten()(cnn_prd)\n",
    "mlp_prd = Dense(1024, activation='relu')(mlp_prd)\n",
    "mlp_prd = Dropout(0.5)(mlp_prd)\n",
    "mlp_prd = Dense(10, activation='softmax')(mlp_prd)\n",
    "\n",
    "\n",
    "\n",
    "\n",
    "\n",
    "\n"
   ]
  },
  {
   "cell_type": "code",
   "execution_count": null,
   "metadata": {},
   "outputs": [],
   "source": []
  }
 ],
 "metadata": {
  "kernelspec": {
   "display_name": "new-tfg",
   "language": "python",
   "name": "python3"
  },
  "language_info": {
   "codemirror_mode": {
    "name": "ipython",
    "version": 3
   },
   "file_extension": ".py",
   "mimetype": "text/x-python",
   "name": "python",
   "nbconvert_exporter": "python",
   "pygments_lexer": "ipython3",
   "version": "3.9.16"
  },
  "orig_nbformat": 4
 },
 "nbformat": 4,
 "nbformat_minor": 2
}
